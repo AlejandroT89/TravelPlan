{
 "cells": [
  {
   "cell_type": "code",
   "execution_count": 1,
   "metadata": {},
   "outputs": [
    {
     "ename": "ModuleNotFoundError",
     "evalue": "No module named 'goodreads'",
     "output_type": "error",
     "traceback": [
      "\u001b[1;31m---------------------------------------------------------------------------\u001b[0m",
      "\u001b[1;31mModuleNotFoundError\u001b[0m                       Traceback (most recent call last)",
      "\u001b[1;32m<ipython-input-1-41d4c37fbace>\u001b[0m in \u001b[0;36m<module>\u001b[1;34m\u001b[0m\n\u001b[0;32m      9\u001b[0m \u001b[1;31m# Link to the python wrapper: https://github.com/sefakilic/goodreads\u001b[0m\u001b[1;33m\u001b[0m\u001b[1;33m\u001b[0m\u001b[1;33m\u001b[0m\u001b[0m\n\u001b[0;32m     10\u001b[0m \u001b[1;33m\u001b[0m\u001b[0m\n\u001b[1;32m---> 11\u001b[1;33m \u001b[1;32mfrom\u001b[0m \u001b[0mgoodreads\u001b[0m \u001b[1;32mimport\u001b[0m \u001b[0mclient\u001b[0m\u001b[1;33m\u001b[0m\u001b[1;33m\u001b[0m\u001b[0m\n\u001b[0m\u001b[0;32m     12\u001b[0m \u001b[1;32mimport\u001b[0m \u001b[0mre\u001b[0m\u001b[1;33m\u001b[0m\u001b[1;33m\u001b[0m\u001b[0m\n\u001b[0;32m     13\u001b[0m \u001b[1;32mimport\u001b[0m \u001b[0murllib\u001b[0m\u001b[1;33m\u001b[0m\u001b[1;33m\u001b[0m\u001b[0m\n",
      "\u001b[1;31mModuleNotFoundError\u001b[0m: No module named 'goodreads'"
     ]
    }
   ],
   "source": [
    "# -*- coding: utf-8 -*-\n",
    "\n",
    "# This is a simple python script that requests the name of a book/author \n",
    "# and prints out the top 30 relevant quotes as found on Goodreads (www.goodreads.com)\n",
    "\n",
    "# This script uses BeautifulSoup-4 to perform the final html parsing to retrieve the quotes and\n",
    "# a python wrapper for the Goodreads API to retrieve the relevant bookID from the given string raw_input\n",
    "\n",
    "# Link to the python wrapper: https://github.com/sefakilic/goodreads \n",
    "\n",
    "from goodreads import client\n",
    "import re\n",
    "import urllib\n",
    "from bs4 import BeautifulSoup\n",
    "\n"
   ]
  },
  {
   "cell_type": "code",
   "execution_count": null,
   "metadata": {},
   "outputs": [],
   "source": [
    "def cleanedUpQuote(quote):              # To remove stray html tags from the retrieved results\n",
    "    quote = re.sub('<.*?>','',quote)\n",
    "    return quote\n",
    "\n",
    "\n",
    "CONSUMER_KEY = \"<Insert your CONSUMER_KEY>\"\n",
    "CONSUMER_SECRET =\"<Insert your CONSUMER_SECRET>\"\n"
   ]
  },
  {
   "cell_type": "code",
   "execution_count": null,
   "metadata": {},
   "outputs": [],
   "source": [
    "\n",
    "\n",
    "gc = client.GoodreadsClient(CONSUMER_KEY,CONSUMER_SECRET)\n",
    "\n",
    "gc.authenticate()\n",
    "\n",
    "bookName = raw_input(\"Enter the name of your favorite book(Enter Author's name to retrive top quotes from the author): \")\n",
    "\n",
    "print \"Hold on while we retrieve the top quotes...\"\n",
    "\n",
    "\n",
    "bookIdList = gc.search_books(bookName)\n",
    "\n",
    "baseUrl = 'https://www.goodreads.com/work/quotes/'\n",
    "editedBookName = bookName.replace(' ','-')\n",
    "s = bookIdList[0]+'-'+editedBookName\n",
    "finalUrl = baseUrl + s;\n",
    "# print finalUrl\n",
    "\n",
    "print \"...............\"\n",
    "print \n",
    "print \n",
    "\n",
    "html = urllib.urlopen(finalUrl).read()\n",
    "soup = BeautifulSoup(html,\"lxml\")\n",
    "\n",
    "# print soup\n",
    "quotesPart = soup.findAll(\"div\",class_=\"quoteText\")\n",
    "\n",
    "for item in quotesPart:\n",
    "    tex = str(item)\n",
    "\n",
    "    matchQ = re.findall('“(.*)”',tex)\n",
    "    print cleanedUpQuote(matchQ[0])\n",
    "    print \n",
    "    print"
   ]
  }
 ],
 "metadata": {
  "kernelspec": {
   "display_name": "Python 3",
   "language": "python",
   "name": "python3"
  },
  "language_info": {
   "codemirror_mode": {
    "name": "ipython",
    "version": 3
   },
   "file_extension": ".py",
   "mimetype": "text/x-python",
   "name": "python",
   "nbconvert_exporter": "python",
   "pygments_lexer": "ipython3",
   "version": "3.7.6"
  }
 },
 "nbformat": 4,
 "nbformat_minor": 4
}
