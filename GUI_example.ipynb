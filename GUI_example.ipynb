{
 "cells": [
  {
   "cell_type": "code",
   "execution_count": 5,
   "metadata": {},
   "outputs": [],
   "source": [
    "import tkinter as tk\n",
    "from tkinter import filedialog, Text\n",
    "import os"
   ]
  },
  {
   "cell_type": "code",
   "execution_count": 6,
   "metadata": {},
   "outputs": [],
   "source": [
    "root= tk.Tk()\n",
    "apps=[]\n",
    "\n",
    "if os.path.isfile('save.txt'):\n",
    "    with open('save.txt', 'r') as f:\n",
    "        tempApps=f.read()\n",
    "        tempApps=tempApps.split(',')\n",
    "        apps = [x for x in tempApps if x.strip()]"
   ]
  },
  {
   "cell_type": "code",
   "execution_count": 7,
   "metadata": {},
   "outputs": [],
   "source": [
    "def addApp():\n",
    "    \n",
    "    for widget in frame.winfo_children():\n",
    "        widget.destroy()\n",
    "    \n",
    "    filename=filedialog.askopenfilename(initialdir=\"/\", title=\"Select File\",\n",
    "                                       filetypes=((\"executables\", \"*.exe\"), (\"all files\", \"*.*\")))\n",
    "    apps.append(filename)\n",
    "    print(filename)\n",
    "    for app in apps:\n",
    "        label = tk.Label(frame, text=app, bg=\"gray\")\n",
    "        label.pack()\n",
    "\n",
    "def runApps():\n",
    "    for app in apps:\n",
    "        os.startfile(app)\n",
    "                "
   ]
  },
  {
   "cell_type": "code",
   "execution_count": 8,
   "metadata": {},
   "outputs": [],
   "source": [
    "canvas=tk.Canvas(root, height=700, width=700, bg=\"#263D42\")\n",
    "canvas.pack()\n",
    "\n",
    "frame= tk.Frame(root,bg=\"white\")\n",
    "frame.place(relwidth=0.9, relheight=0.9, relx=0.05, rely=0.05)\n",
    "\n",
    "#add button\n",
    "\n",
    "openFile=tk.Button(root, text=\"Open File\", padx=10,\n",
    "                   pady= 5, fg=\"white\", bg=\"#263D42\", command=addApp)\n",
    "openFile.pack()\n",
    "\n",
    "runApps=tk.Button(root, text=\"Run apps\", padx=10,\n",
    "                   pady= 5, fg=\"white\", bg=\"#263D42\", command=runApps)\n",
    "runApps.pack()\n",
    "\n",
    "for app in apps:\n",
    "    label = tk.Label(frame, text=app)\n",
    "    label.pack()\n",
    "    \n",
    "root.mainloop()\n",
    "\n",
    "with open(\"save.text\", 'w') as f:\n",
    "    for app in apps:\n",
    "        f.write(app + ',')"
   ]
  },
  {
   "cell_type": "code",
   "execution_count": null,
   "metadata": {},
   "outputs": [],
   "source": []
  },
  {
   "cell_type": "code",
   "execution_count": null,
   "metadata": {},
   "outputs": [],
   "source": []
  },
  {
   "cell_type": "code",
   "execution_count": null,
   "metadata": {},
   "outputs": [],
   "source": []
  }
 ],
 "metadata": {
  "kernelspec": {
   "display_name": "Python 3",
   "language": "python",
   "name": "python3"
  },
  "language_info": {
   "codemirror_mode": {
    "name": "ipython",
    "version": 3
   },
   "file_extension": ".py",
   "mimetype": "text/x-python",
   "name": "python",
   "nbconvert_exporter": "python",
   "pygments_lexer": "ipython3",
   "version": "3.7.6"
  }
 },
 "nbformat": 4,
 "nbformat_minor": 4
}
